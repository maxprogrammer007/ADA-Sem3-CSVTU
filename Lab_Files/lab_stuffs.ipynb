{
 "cells": [
  {
   "cell_type": "markdown",
   "metadata": {},
   "source": [
    "# Analysis and Design of Algorithms - Lab Component\n",
    "\n",
    "**Course Instructor:** Dr. JP Patra  \n",
    "**Lab Guide:** Mrs. Thaneshwari Sahu  \n",
    "\n",
    "Welcome to the lab component of the **Analysis and Design of Algorithms** course. This notebook covers a range of fundamental algorithms, each implemented in Python to demonstrate essential concepts in algorithm design, efficiency, and problem-solving techniques.\n",
    "\n",
    "The exercises in this lab aim to deepen understanding of:\n",
    "- **Sorting Algorithms:** Techniques such as insertion sort, merge sort, and bubble sort, focusing on their time complexities and applications.\n",
    "- **Divide and Conquer Approaches:** Including quicksort, maximum subarray problems, and matrix multiplication, illustrating how complex problems can be broken down into simpler subproblems.\n",
    "- **Dynamic Programming and Recursion:** Implementing algorithms for tasks like Fibonacci sequence generation and finding minimums in arrays and matrices.\n",
    "- **Data Structures in Search and Optimization:** Using binary search trees, binary search algorithms, and heap structures for efficient data handling.\n",
    "- **Graph Algorithms:** Dijkstra’s and Prim’s algorithms to solve shortest path and minimum spanning tree problems.\n",
    "\n",
    "Each lab exercise is organized to include a clear explanation of the problem, the Python implementation, and sample inputs/outputs to illustrate the algorithm in action. This structured approach will not only reinforce understanding but also help you develop a systematic approach to designing and analyzing algorithms.\n",
    "\n",
    "Let's dive into these exercises and explore the world of algorithms through code!\n"
   ]
  },
  {
   "cell_type": "markdown",
   "metadata": {},
   "source": [
    "# Lab 1: Sorting Algorithms\n",
    "\n",
    "In this lab, we will implement three fundamental sorting algorithms: **Insertion Sort**, **Merge Sort**, and **Bubble Sort**. Each of these algorithms has unique characteristics and performance profiles, making them suitable for different scenarios. This exercise will help us understand the mechanics and efficiency of each algorithm through hands-on coding.\n",
    "\n",
    "### Problem Statement\n",
    "\n",
    "Implement the following sorting algorithms:\n",
    "\n",
    "1. **Insertion Sort**  \n",
    "   A simple, intuitive sorting algorithm that builds the final sorted array one item at a time. It’s efficient for small data sets or partially sorted arrays.\n",
    "\n",
    "2. **Merge Sort**  \n",
    "   A classic example of the divide-and-conquer approach, merge sort divides the array into halves, recursively sorts each half, and then merges the sorted halves. Known for its consistent performance of \\(O(n \\log n)\\).\n",
    "\n",
    "3. **Bubble Sort**  \n",
    "   An elementary sorting algorithm where elements \"bubble\" to their correct positions through repeated swapping. Though not the most efficient for large arrays, it’s a good starting point for understanding sorting logic.\n",
    "\n",
    "### Objectives\n",
    "- Implement each sorting algorithm in Python.\n",
    "- Analyze the time and space complexities of each algorithm.\n",
    "- Compare their performance on small and large data sets to observe efficiency.\n",
    "\n",
    "Let's dive in and start coding these algorithms to see them in action!\n"
   ]
  },
  {
   "cell_type": "code",
   "execution_count": 1,
   "metadata": {},
   "outputs": [
    {
     "name": "stdout",
     "output_type": "stream",
     "text": [
      "Original array: [12, 11, 13, 5, 6]\n",
      "Sorted array: [5, 6, 11, 12, 13]\n"
     ]
    }
   ],
   "source": [
    "def insertion_sort(arr):\n",
    "    # Traverse through 1 to len(arr)\n",
    "    for i in range(1, len(arr)):\n",
    "        key = arr[i]\n",
    "        \n",
    "        # Move elements of arr[0..i-1] that are greater than key\n",
    "        # to one position ahead of their current position\n",
    "        j = i - 1\n",
    "        while j >= 0 and key < arr[j]:\n",
    "            arr[j + 1] = arr[j]\n",
    "            j -= 1\n",
    "        arr[j + 1] = key\n",
    "\n",
    "# Example usage\n",
    "arr = [12, 11, 13, 5, 6]\n",
    "print(\"Original array:\", arr)\n",
    "insertion_sort(arr)\n",
    "print(\"Sorted array:\", arr)\n"
   ]
  },
  {
   "cell_type": "code",
   "execution_count": null,
   "metadata": {},
   "outputs": [],
   "source": []
  }
 ],
 "metadata": {
  "kernelspec": {
   "display_name": "Python 3",
   "language": "python",
   "name": "python3"
  },
  "language_info": {
   "codemirror_mode": {
    "name": "ipython",
    "version": 3
   },
   "file_extension": ".py",
   "mimetype": "text/x-python",
   "name": "python",
   "nbconvert_exporter": "python",
   "pygments_lexer": "ipython3",
   "version": "3.12.5"
  }
 },
 "nbformat": 4,
 "nbformat_minor": 2
}
