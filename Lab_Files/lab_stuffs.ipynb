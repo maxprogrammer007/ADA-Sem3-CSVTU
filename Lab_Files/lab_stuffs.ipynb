{
 "cells": [
  {
   "cell_type": "markdown",
   "metadata": {},
   "source": [
    "# Analysis and Design of Algorithms - Lab Component\n",
    "\n",
    "**Course Instructor:** Dr. JP Patra  \n",
    "**Lab Guide:** Mrs. Thaneshwari Sahu  \n",
    "\n",
    "Welcome to the lab component of the **Analysis and Design of Algorithms** course. This notebook covers a range of fundamental algorithms, each implemented in Python to demonstrate essential concepts in algorithm design, efficiency, and problem-solving techniques.\n",
    "\n",
    "The exercises in this lab aim to deepen understanding of:\n",
    "- **Sorting Algorithms:** Techniques such as insertion sort, merge sort, and bubble sort, focusing on their time complexities and applications.\n",
    "- **Divide and Conquer Approaches:** Including quicksort, maximum subarray problems, and matrix multiplication, illustrating how complex problems can be broken down into simpler subproblems.\n",
    "- **Dynamic Programming and Recursion:** Implementing algorithms for tasks like Fibonacci sequence generation and finding minimums in arrays and matrices.\n",
    "- **Data Structures in Search and Optimization:** Using binary search trees, binary search algorithms, and heap structures for efficient data handling.\n",
    "- **Graph Algorithms:** Dijkstra’s and Prim’s algorithms to solve shortest path and minimum spanning tree problems.\n",
    "\n",
    "Each lab exercise is organized to include a clear explanation of the problem, the Python implementation, and sample inputs/outputs to illustrate the algorithm in action. This structured approach will not only reinforce understanding but also help you develop a systematic approach to designing and analyzing algorithms.\n",
    "\n",
    "Let's dive into these exercises and explore the world of algorithms through code!\n"
   ]
  },
  {
   "cell_type": "markdown",
   "metadata": {},
   "source": [
    "# Lab 1: Sorting Algorithms\n",
    "\n",
    "In this lab, we will implement three fundamental sorting algorithms: **Insertion Sort**, **Merge Sort**, and **Bubble Sort**. Each of these algorithms has unique characteristics and performance profiles, making them suitable for different scenarios. This exercise will help us understand the mechanics and efficiency of each algorithm through hands-on coding.\n",
    "\n",
    "### Problem Statement\n",
    "\n",
    "Implement the following sorting algorithms:\n",
    "\n",
    "1. **Insertion Sort**  \n",
    "   A simple, intuitive sorting algorithm that builds the final sorted array one item at a time. It’s efficient for small data sets or partially sorted arrays.\n",
    "\n",
    "2. **Merge Sort**  \n",
    "   A classic example of the divide-and-conquer approach, merge sort divides the array into halves, recursively sorts each half, and then merges the sorted halves. Known for its consistent performance of \\(O(n \\log n)\\).\n",
    "\n",
    "3. **Bubble Sort**  \n",
    "   An elementary sorting algorithm where elements \"bubble\" to their correct positions through repeated swapping. Though not the most efficient for large arrays, it’s a good starting point for understanding sorting logic.\n",
    "\n",
    "### Objectives\n",
    "- Implement each sorting algorithm in Python.\n",
    "- Analyze the time and space complexities of each algorithm.\n",
    "- Compare their performance on small and large data sets to observe efficiency.\n",
    "\n",
    "Let's dive in and start coding these algorithms to see them in action!\n"
   ]
  },
  {
   "cell_type": "code",
   "execution_count": 1,
   "metadata": {},
   "outputs": [
    {
     "name": "stdout",
     "output_type": "stream",
     "text": [
      "Original array: [12, 11, 13, 5, 6]\n",
      "Sorted array: [5, 6, 11, 12, 13]\n"
     ]
    }
   ],
   "source": [
    "def insertion_sort(arr):\n",
    "    # Traverse through 1 to len(arr)\n",
    "    for i in range(1, len(arr)):\n",
    "        key = arr[i]\n",
    "        \n",
    "        # Move elements of arr[0..i-1] that are greater than key\n",
    "        # to one position ahead of their current position\n",
    "        j = i - 1\n",
    "        while j >= 0 and key < arr[j]:\n",
    "            arr[j + 1] = arr[j]\n",
    "            j -= 1\n",
    "        arr[j + 1] = key\n",
    "\n",
    "# Example usage\n",
    "arr = [12, 11, 13, 5, 6]\n",
    "print(\"Original array:\", arr)\n",
    "insertion_sort(arr)\n",
    "print(\"Sorted array:\", arr)\n"
   ]
  },
  {
   "cell_type": "code",
   "execution_count": 2,
   "metadata": {},
   "outputs": [
    {
     "name": "stdout",
     "output_type": "stream",
     "text": [
      "Original array: [12, 11, 13, 5, 6, 7]\n",
      "Sorted array: [5, 6, 7, 11, 12, 13]\n"
     ]
    }
   ],
   "source": [
    "def merge_sort(arr):\n",
    "    if len(arr) > 1:\n",
    "        mid = len(arr) // 2  # Find the middle of the array\n",
    "        left_half = arr[:mid]  # Divide the array elements into two halves\n",
    "        right_half = arr[mid:]\n",
    "\n",
    "        # Recursively sort each half\n",
    "        merge_sort(left_half)\n",
    "        merge_sort(right_half)\n",
    "\n",
    "        # Merging the sorted halves\n",
    "        i = j = k = 0\n",
    "\n",
    "        # Copy data to temp arrays left_half and right_half\n",
    "        while i < len(left_half) and j < len(right_half):\n",
    "            if left_half[i] < right_half[j]:\n",
    "                arr[k] = left_half[i]\n",
    "                i += 1\n",
    "            else:\n",
    "                arr[k] = right_half[j]\n",
    "                j += 1\n",
    "            k += 1\n",
    "\n",
    "        # Checking if any element was left\n",
    "        while i < len(left_half):\n",
    "            arr[k] = left_half[i]\n",
    "            i += 1\n",
    "            k += 1\n",
    "\n",
    "        while j < len(right_half):\n",
    "            arr[k] = right_half[j]\n",
    "            j += 1\n",
    "            k += 1\n",
    "\n",
    "# Example usage\n",
    "arr = [12, 11, 13, 5, 6, 7]\n",
    "print(\"Original array:\", arr)\n",
    "merge_sort(arr)\n",
    "print(\"Sorted array:\", arr)\n"
   ]
  },
  {
   "cell_type": "code",
   "execution_count": 3,
   "metadata": {},
   "outputs": [
    {
     "name": "stdout",
     "output_type": "stream",
     "text": [
      "Original array: [64, 34, 25, 12, 22, 11, 90]\n",
      "Sorted array: [11, 12, 22, 25, 34, 64, 90]\n"
     ]
    }
   ],
   "source": [
    "def bubble_sort(arr):\n",
    "    n = len(arr)\n",
    "    # Traverse through all array elements\n",
    "    for i in range(n):\n",
    "        swapped = False\n",
    "        # Last i elements are already sorted\n",
    "        for j in range(0, n - i - 1):\n",
    "            # Swap if the element found is greater than the next element\n",
    "            if arr[j] > arr[j + 1]:\n",
    "                arr[j], arr[j + 1] = arr[j + 1], arr[j]\n",
    "                swapped = True\n",
    "        # If no two elements were swapped by inner loop, then break\n",
    "        if not swapped:\n",
    "            break\n",
    "\n",
    "# Example usage\n",
    "arr = [64, 34, 25, 12, 22, 11, 90]\n",
    "print(\"Original array:\", arr)\n",
    "bubble_sort(arr)\n",
    "print(\"Sorted array:\", arr)\n"
   ]
  },
  {
   "cell_type": "markdown",
   "metadata": {},
   "source": [
    "# Lab 2: Maximum Subarray Sum Problem\n",
    "\n",
    "In this lab, we will implement the **Maximum Subarray Sum Problem**, an important problem in algorithm design often used to illustrate optimization techniques and dynamic programming.\n",
    "\n",
    "### Problem Statement\n",
    "\n",
    "Given an array of integers, the goal is to find the contiguous subarray (containing at least one number) that has the largest sum and return that sum.\n",
    "\n",
    "For example, given the array `[-2, 1, -3, 4, -1, 2, 1, -5, 4]`, the maximum sum of a contiguous subarray is `6`, achieved by the subarray `[4, -1, 2, 1]`.\n",
    "\n",
    "### Objectives\n",
    "- **Implement a solution** to find the maximum subarray sum.\n",
    "- **Explore different approaches** to solve this problem, such as:\n",
    "  - Brute-force approach\n",
    "  - Kadane’s Algorithm (an efficient solution with \\(O(n)\\) complexity)\n",
    "- **Analyze the time and space complexities** of each approach.\n",
    "- **Compare the performance** of each method on various input sizes to understand the trade-offs between simplicity and efficiency.\n",
    "\n",
    "Let's begin by implementing different methods to solve this problem and explore which is most effective for different array sizes!\n"
   ]
  },
  {
   "cell_type": "code",
   "execution_count": 5,
   "metadata": {},
   "outputs": [
    {
     "name": "stdout",
     "output_type": "stream",
     "text": [
      "Maximum Subarray Sum: 6\n"
     ]
    }
   ],
   "source": [
    "def max_subarray_sum(arr):\n",
    "    max_sum = arr[0]\n",
    "    current_sum = arr[0]\n",
    "\n",
    "    for i in range(1, len(arr)):\n",
    "        current_sum = max(arr[i], current_sum + arr[i])  # Decide to start new subarray or add to current\n",
    "        max_sum = max(max_sum, current_sum)  # Track the maximum sum found\n",
    "\n",
    "    return max_sum\n",
    "\n",
    "# Example usage\n",
    "arr = [-2, 1, -3, 4, -1, 2, 1, -5, 4]\n",
    "print(\"Maximum Subarray Sum:\", max_subarray_sum(arr))\n"
   ]
  },
  {
   "cell_type": "markdown",
   "metadata": {},
   "source": [
    "# Lab 3: Heap Sort Algorithm\n",
    "\n",
    "In this lab, we will implement the **Heap Sort Algorithm**, a popular and efficient sorting algorithm that uses a binary heap data structure. Heap sort is particularly valuable for its \\(O(n \\log n)\\) time complexity and in-place sorting capability, making it suitable for large data sets.\n",
    "\n",
    "### Problem Statement\n",
    "\n",
    "Implement **Heap Sort** to sort an array of elements in ascending order. The algorithm should:\n",
    "1. Build a max heap from the input data.\n",
    "2. Extract the maximum element from the heap and place it at the end of the array.\n",
    "3. Repeat the process until all elements are sorted.\n",
    "\n",
    "### Objectives\n",
    "- **Understand and implement** the heap data structure, focusing on max-heaps.\n",
    "- **Develop the Heap Sort Algorithm** using max-heap properties.\n",
    "- **Analyze the time and space complexity** of heap sort and discuss its advantages compared to other \\(O(n \\log n)\\) sorting algorithms, like merge sort and quicksort.\n",
    "- **Test and validate** the algorithm on various input sizes to evaluate its efficiency and effectiveness.\n",
    "\n",
    "Let’s proceed to code the heap sort algorithm and analyze its performance across different scenarios!\n"
   ]
  },
  {
   "cell_type": "code",
   "execution_count": 6,
   "metadata": {},
   "outputs": [
    {
     "name": "stdout",
     "output_type": "stream",
     "text": [
      "Original array: [12, 11, 13, 5, 6, 7]\n",
      "Sorted array: [5, 6, 7, 11, 12, 13]\n"
     ]
    }
   ],
   "source": [
    "def heapify(arr, n, i):\n",
    "    largest = i        # Initialize largest as root\n",
    "    left = 2 * i + 1   # Left child\n",
    "    right = 2 * i + 2  # Right child\n",
    "\n",
    "    # Check if left child exists and is greater than root\n",
    "    if left < n and arr[left] > arr[largest]:\n",
    "        largest = left\n",
    "\n",
    "    # Check if right child exists and is greater than the largest so far\n",
    "    if right < n and arr[right] > arr[largest]:\n",
    "        largest = right\n",
    "\n",
    "    # Change root if needed\n",
    "    if largest != i:\n",
    "        arr[i], arr[largest] = arr[largest], arr[i]  # Swap\n",
    "        heapify(arr, n, largest)  # Recursively heapify the affected subtree\n",
    "\n",
    "def heap_sort(arr):\n",
    "    n = len(arr)\n",
    "\n",
    "    # Build max heap\n",
    "    for i in range(n // 2 - 1, -1, -1):\n",
    "        heapify(arr, n, i)\n",
    "\n",
    "    # Extract elements one by one\n",
    "    for i in range(n - 1, 0, -1):\n",
    "        arr[i], arr[0] = arr[0], arr[i]  # Swap\n",
    "        heapify(arr, i, 0)\n",
    "\n",
    "# Example usage\n",
    "arr = [12, 11, 13, 5, 6, 7]\n",
    "print(\"Original array:\", arr)\n",
    "heap_sort(arr)\n",
    "print(\"Sorted array:\", arr)\n"
   ]
  },
  {
   "cell_type": "code",
   "execution_count": null,
   "metadata": {},
   "outputs": [],
   "source": []
  }
 ],
 "metadata": {
  "kernelspec": {
   "display_name": "Python 3",
   "language": "python",
   "name": "python3"
  },
  "language_info": {
   "codemirror_mode": {
    "name": "ipython",
    "version": 3
   },
   "file_extension": ".py",
   "mimetype": "text/x-python",
   "name": "python",
   "nbconvert_exporter": "python",
   "pygments_lexer": "ipython3",
   "version": "3.12.5"
  }
 },
 "nbformat": 4,
 "nbformat_minor": 2
}
